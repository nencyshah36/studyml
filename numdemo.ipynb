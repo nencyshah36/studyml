{
 "cells": [
  {
   "cell_type": "code",
   "execution_count": 1,
   "id": "d8d1a9d5",
   "metadata": {},
   "outputs": [],
   "source": [
    "import numpy as np"
   ]
  },
  {
   "cell_type": "code",
   "execution_count": 2,
   "id": "db5187e3",
   "metadata": {},
   "outputs": [
    {
     "name": "stdout",
     "output_type": "stream",
     "text": [
      "shape a:(5,)\n",
      "ndim 1\n",
      "size 5\n",
      "dtype int64\n",
      "itemsize 8\n",
      "data <memory at 0x7fc853455640>\n"
     ]
    }
   ],
   "source": [
    "a=np.array([1,2,3,4,5])\n",
    "b=np.array([2,3,4])\n",
    "\n",
    "print(\"shape a:{}\".format(a.shape))    # Shape of the array\n",
    "print(\"ndim {}\".format(a.ndim))        # Number of dimensions\n",
    "print(\"size {}\".format(a.size))         # Total number of elements\n",
    "print(f\"dtype {a.dtype}\")              # Data type of the elements\n",
    "print(f\"itemsize {a.itemsize}\")        # Size of each element in bytes\n",
    "print(f\"data {a.data}\")                # Buffer containing the actual elements\n"
   ]
  },
  {
   "cell_type": "code",
   "execution_count": 3,
   "id": "860e8ca1",
   "metadata": {},
   "outputs": [
    {
     "name": "stdout",
     "output_type": "stream",
     "text": [
      "[[2 3]\n",
      " [1 4]]\n"
     ]
    }
   ],
   "source": [
    "a1=np.array([[2,3,4,5],\n",
    "             [1,4,7,6]])\n",
    "a2=np.array([[1,1,1],[1,1,1]])\n",
    "#add(), subtract(),mod(),reminder(),multiply(),divide(), power(),absolute()#\n",
    "#Slicing\n",
    "#slicing operation a1[:2, :2] is used to create sliced_arr, \n",
    "#which contains a subset of the original array a1.\n",
    "\n",
    "sliced_arr=a1[:2,:2]\n",
    "print(sliced_arr)"
   ]
  },
  {
   "cell_type": "code",
   "execution_count": 4,
   "id": "26846b29",
   "metadata": {},
   "outputs": [
    {
     "name": "stdout",
     "output_type": "stream",
     "text": [
      "[7 4]\n"
     ]
    }
   ],
   "source": [
    "index_arr=a1[[1,1],[2,1]]\n",
    "\n",
    "#The print() function is used to display the contents of index_arr.\n",
    "print(index_arr)\n"
   ]
  },
  {
   "cell_type": "code",
   "execution_count": 5,
   "id": "866da959",
   "metadata": {},
   "outputs": [
    {
     "name": "stdout",
     "output_type": "stream",
     "text": [
      "32\n"
     ]
    }
   ],
   "source": [
    "#method of the NumPy array is used to \n",
    "#calculate the sum of all elements\n",
    "\n",
    "print(a1.sum())"
   ]
  },
  {
   "cell_type": "code",
   "execution_count": 6,
   "id": "a63e9578",
   "metadata": {},
   "outputs": [
    {
     "name": "stdout",
     "output_type": "stream",
     "text": [
      "214\n"
     ]
    }
   ],
   "source": [
    "#NumPy array is used to calculate the sum of all elements.\n",
    "\n",
    "arr=np.array([[25,64],[89,36]])\n",
    "print(arr.sum())"
   ]
  },
  {
   "cell_type": "code",
   "execution_count": 7,
   "id": "20b5eede",
   "metadata": {},
   "outputs": [
    {
     "name": "stdout",
     "output_type": "stream",
     "text": [
      "[[5.         8.        ]\n",
      " [9.43398113 6.        ]]\n"
     ]
    }
   ],
   "source": [
    "#to compute the square root of each element in the array.\n",
    "\n",
    "print(np.sqrt(arr))"
   ]
  },
  {
   "cell_type": "code",
   "execution_count": 8,
   "id": "7955272e",
   "metadata": {},
   "outputs": [
    {
     "name": "stdout",
     "output_type": "stream",
     "text": [
      "[[25 89]\n",
      " [64 36]]\n"
     ]
    }
   ],
   "source": [
    "#to obtain the transpose of the array.\n",
    "\n",
    "print(arr.T)"
   ]
  },
  {
   "cell_type": "code",
   "execution_count": 9,
   "id": "84eba765",
   "metadata": {},
   "outputs": [
    {
     "name": "stdout",
     "output_type": "stream",
     "text": [
      "[[31 36]\n",
      " [55 64]]\n"
     ]
    }
   ],
   "source": [
    "#to perform matrix multiplication\n",
    "#of b1 and b2\n",
    "\n",
    "b1=np.array([[2,3],[4,5]])\n",
    "b2=np.array([[5,6],[7,8]])\n",
    "matrix_multi=np.dot(b1,b2)\n",
    "print(matrix_multi)"
   ]
  },
  {
   "cell_type": "code",
   "execution_count": 10,
   "id": "d2266556",
   "metadata": {},
   "outputs": [
    {
     "name": "stdout",
     "output_type": "stream",
     "text": [
      "all() with axis none False\n",
      "all() with axis 0 [False  True]\n"
     ]
    }
   ],
   "source": [
    "#np.all(): Checks if all elements are True.\n",
    "#np.any(): (if included) Checks if any elements are True.\n",
    "\n",
    "bool=np.array([[True,True],[False,True]])\n",
    "print(\"all() with axis none\",np.all(bool))\n",
    "print(\"all() with axis 0\",np.all(bool,axis=0))#any()"
   ]
  },
  {
   "cell_type": "code",
   "execution_count": 11,
   "id": "c154957d",
   "metadata": {},
   "outputs": [
    {
     "name": "stdout",
     "output_type": "stream",
     "text": [
      "[0 1 2 3 4 5 6 7 8]\n",
      "[[0 1 2]\n",
      " [3 4 5]\n",
      " [6 7 8]]\n"
     ]
    }
   ],
   "source": [
    "#to display the contents of the variables temp and re.\n",
    "\n",
    "temp=np.arange(9)\n",
    "print(temp)\n",
    "re=temp.reshape(3,3)\n",
    "print(re)"
   ]
  },
  {
   "cell_type": "code",
   "execution_count": 12,
   "id": "c18bc373",
   "metadata": {},
   "outputs": [
    {
     "name": "stdout",
     "output_type": "stream",
     "text": [
      "[[0 1]\n",
      " [3 4]\n",
      " [6 7]]\n"
     ]
    }
   ],
   "source": [
    "#o extract specific elements from the array \n",
    "#re along the specified axis.\n",
    "\n",
    "print(np.take(re,[0,1],axis=1))"
   ]
  },
  {
   "cell_type": "code",
   "execution_count": 13,
   "id": "25d8b15d",
   "metadata": {},
   "outputs": [
    {
     "name": "stdout",
     "output_type": "stream",
     "text": [
      "vstack: [[12 23]\n",
      " [23 34]\n",
      " [56 67]\n",
      " [78 89]\n",
      " [32 43]\n",
      " [54 65]]\n",
      "hstack: [[12 23 56 67 32 43]\n",
      " [23 34 78 89 54 65]]\n"
     ]
    }
   ],
   "source": [
    "x=np.array([[12,23],[23,34]])\n",
    "y=np.array([[56,67],[78,89]])\n",
    "z=np.array([[32,43],[54,65]])\n",
    "v=np.vstack((x,y,z))\n",
    "h=np.hstack((x,y,z))\n",
    "\n",
    "#Used for vertical stacking of arrays.\n",
    "print(\"vstack:\",v)\n",
    "#Used for horizontal stacking of arrays.\n",
    "print(\"hstack:\",h)"
   ]
  },
  {
   "cell_type": "code",
   "execution_count": 14,
   "id": "881c3b1d",
   "metadata": {},
   "outputs": [
    {
     "ename": "NameError",
     "evalue": "name 'split' is not defined",
     "output_type": "error",
     "traceback": [
      "\u001b[0;31m---------------------------------------------------------------------------\u001b[0m",
      "\u001b[0;31mNameError\u001b[0m                                 Traceback (most recent call last)",
      "Input \u001b[0;32mIn [14]\u001b[0m, in \u001b[0;36m<cell line: 2>\u001b[0;34m()\u001b[0m\n\u001b[1;32m      1\u001b[0m h_split\u001b[38;5;241m=\u001b[39mnp\u001b[38;5;241m.\u001b[39mhsplit(h,\u001b[38;5;241m3\u001b[39m)\n\u001b[0;32m----> 2\u001b[0m \u001b[38;5;28mprint\u001b[39m(\u001b[38;5;124m\"\u001b[39m\u001b[38;5;124msplit:\u001b[39m\u001b[38;5;124m\"\u001b[39m,\u001b[43msplit\u001b[49m)\n\u001b[1;32m      3\u001b[0m v_split\u001b[38;5;241m=\u001b[39mnp\u001b[38;5;241m.\u001b[39mvsplit(h,\u001b[38;5;241m2\u001b[39m)\n\u001b[1;32m      4\u001b[0m \u001b[38;5;28mprint\u001b[39m(\u001b[38;5;124m\"\u001b[39m\u001b[38;5;124mvsplit:\u001b[39m\u001b[38;5;124m\"\u001b[39m,v_split)\n",
      "\u001b[0;31mNameError\u001b[0m: name 'split' is not defined"
     ]
    }
   ],
   "source": [
    "h_split=np.hsplit(h,3)\n",
    "print(\"split:\",split)\n",
    "v_split=np.vsplit(h,2)\n",
    "print(\"vsplit:\",v_split)"
   ]
  },
  {
   "cell_type": "code",
   "execution_count": 15,
   "id": "2de1dd06",
   "metadata": {},
   "outputs": [
    {
     "name": "stdout",
     "output_type": "stream",
     "text": [
      "h_split: [array([[12, 23],\n",
      "       [23, 34]]), array([[56, 67],\n",
      "       [78, 89]]), array([[32, 43],\n",
      "       [54, 65]])]\n",
      "v_split: [array([[12, 23, 56, 67, 32, 43]]), array([[23, 34, 78, 89, 54, 65]])]\n"
     ]
    }
   ],
   "source": [
    "h_split = np.hsplit(h, 3)\n",
    "#Used for horizontal splitting of arrays.\n",
    "print(\"h_split:\", h_split)\n",
    "v_split = np.vsplit(h, 2)\n",
    "#Used for vertical splitting of arrays.\n",
    "print(\"v_split:\", v_split) "
   ]
  },
  {
   "cell_type": "code",
   "execution_count": 16,
   "id": "60fee3d7",
   "metadata": {},
   "outputs": [
    {
     "name": "stdout",
     "output_type": "stream",
     "text": [
      "Sqrt:  [4.79583152 5.83095189 6.70820393 8.18535277]\n",
      "Exp:  [9.74480345e+09 5.83461743e+14 3.49342711e+19 1.25236317e+29]\n",
      "Sin:  [-0.8462204   0.52908269  0.85090352 -0.85551998]\n",
      "Cos:  [-0.53283302 -0.84857027  0.52532199 -0.5177698 ]\n",
      "Log:  [3.13549422 3.52636052 3.80666249 4.20469262]\n",
      "Sum:  169\n",
      "Std:  16.269219403523945\n"
     ]
    }
   ],
   "source": [
    "arr=np.array([23,34,45,67])\n",
    "print(\"Sqrt: \",np.sqrt(arr))#Returns the square root of each element \n",
    "print(\"Exp: \",np.exp(arr))     #Returns the exponentials of each element\n",
    "print(\"Sin: \",np.sin(arr))     #Returns the sin of each element\n",
    "print(\"Cos: \",np.cos(arr))     #Returns the cosine of each element\n",
    "print(\"Log: \",np.log(arr))     #Returns the logarithm of each element\n",
    "print(\"Sum: \",np.sum(arr))     #Returns the sum total of elements in the array\n",
    "print(\"Std: \",np.std(arr))     #Returns the standard deviation of in the array"
   ]
  },
  {
   "cell_type": "code",
   "execution_count": 17,
   "id": "e32eb955",
   "metadata": {},
   "outputs": [
    {
     "name": "stdout",
     "output_type": "stream",
     "text": [
      "random: [0.84897584 0.75692791 0.16576516 0.02596712 0.51043958 0.54582153\n",
      " 0.64509637 0.26242157 0.15311674 0.3474485  0.59929644 0.76138383\n",
      " 0.48146201 0.59284682 0.03661602 0.05721527 0.00159504 0.0225325\n",
      " 0.27230852 0.89220847]\n",
      "\n",
      "rand: [[0.34944736 0.63226177 0.57713591 0.22699824]\n",
      " [0.50501637 0.55002684 0.68779123 0.21180762]\n",
      " [0.67862101 0.22177722 0.56005015 0.06528872]]\n",
      "\n",
      "randint: [58 43 13 27 34 33 54 79 54 95 91 49 59 43 72 44  8 71 25 20]\n",
      "\n",
      "permutation: [12 11  2 17  7 16  0  4  1  3  8 15  9 13  6  5 19 18 10 14]\n",
      "\n"
     ]
    }
   ],
   "source": [
    "#Generates random floats in the range \n",
    "print(\"random: {}\\n\".format(np.random.random(20)));\n",
    "#specified shape\n",
    "print(\"rand: {}\\n\".format(np.random.rand(3, 4)));\n",
    "#integers i\n",
    "print(\"randint: {}\\n\".format(np.random.randint(0, 100, 20)));\n",
    "#Returns a random permutation of a sequence or array.\n",
    "print(\"permutation: {}\\n\".format(np.random.permutation(np.arange(20))));"
   ]
  },
  {
   "cell_type": "code",
   "execution_count": null,
   "id": "6c016487",
   "metadata": {},
   "outputs": [],
   "source": []
  }
 ],
 "metadata": {
  "kernelspec": {
   "display_name": "Python 3 (ipykernel)",
   "language": "python",
   "name": "python3"
  },
  "language_info": {
   "codemirror_mode": {
    "name": "ipython",
    "version": 3
   },
   "file_extension": ".py",
   "mimetype": "text/x-python",
   "name": "python",
   "nbconvert_exporter": "python",
   "pygments_lexer": "ipython3",
   "version": "3.9.12"
  }
 },
 "nbformat": 4,
 "nbformat_minor": 5
}
